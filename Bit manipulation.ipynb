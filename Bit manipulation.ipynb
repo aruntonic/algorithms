{
 "cells": [
  {
   "cell_type": "code",
   "execution_count": 5,
   "metadata": {
    "collapsed": false
   },
   "outputs": [
    {
     "data": {
      "text/plain": [
       "'0b0'"
      ]
     },
     "execution_count": 5,
     "metadata": {},
     "output_type": "execute_result"
    }
   ],
   "source": [
    "def MintoN(N, M, i, j):\n",
    "    return (N \n",
    "            & \n",
    "            (~0 << j + 1)  # createing all ones till j . notice j +1 (not to include j) like 111100000\n",
    "            | ((1 << i) - 1)# createing ones till util i like 00000011\n",
    "            # or not and the above to merge\n",
    "            | (M << i) #again or to merge\n",
    "bin(MintoN(0b10000000000, 0b1011, 2, 6))"
   ]
  },
  {
   "cell_type": "code",
   "execution_count": 42,
   "metadata": {
    "collapsed": false
   },
   "outputs": [],
   "source": [
    "def binaryRepOfFloat(x):\n",
    "    # input validation check\n",
    "    if 0 > x > 1:\n",
    "        return 'ERROR'\n",
    "    \n",
    "    #x = Decimal(x)\n",
    "    ret = ['.', ]\n",
    "    while x and len(ret) < 32:\n",
    "        if len(ret) >= 32:\n",
    "            return 'ERROR'\n",
    "        \n",
    "        x *= 2\n",
    "        print(x)\n",
    "        #x *= (10 ** -5)\n",
    "        #print(x)\n",
    "        if x > 1:\n",
    "            ret.append('1')\n",
    "            x -= 1\n",
    "        else:\n",
    "            ret.append('0')\n",
    "    return ''.join(ret)\n",
    "            \n",
    "    "
   ]
  },
  {
   "cell_type": "code",
   "execution_count": 43,
   "metadata": {
    "collapsed": false
   },
   "outputs": [
    {
     "name": "stdout",
     "output_type": "stream",
     "text": [
      "1.786\n",
      "1.572\n",
      "1.1440000000000001\n",
      "0.28800000000000026\n",
      "0.5760000000000005\n",
      "1.152000000000001\n",
      "0.30400000000000205\n",
      "0.6080000000000041\n",
      "1.2160000000000082\n",
      "0.43200000000001637\n",
      "0.8640000000000327\n",
      "1.7280000000000655\n",
      "1.456000000000131\n",
      "0.9120000000002619\n",
      "1.8240000000005239\n",
      "1.6480000000010477\n",
      "1.2960000000020955\n",
      "0.592000000004191\n",
      "1.184000000008382\n",
      "0.3680000000167638\n",
      "0.7360000000335276\n",
      "1.4720000000670552\n",
      "0.9440000001341105\n",
      "1.888000000268221\n",
      "1.7760000005364418\n",
      "1.5520000010728836\n",
      "1.1040000021457672\n",
      "0.20800000429153442\n",
      "0.41600000858306885\n",
      "0.8320000171661377\n",
      "1.6640000343322754\n"
     ]
    },
    {
     "data": {
      "text/plain": [
       "'.1110010010011011101001011110001'"
      ]
     },
     "execution_count": 43,
     "metadata": {},
     "output_type": "execute_result"
    }
   ],
   "source": [
    "binaryRepOfFloat(0.893)"
   ]
  },
  {
   "cell_type": "code",
   "execution_count": 68,
   "metadata": {
    "collapsed": false
   },
   "outputs": [
    {
     "data": {
      "text/plain": [
       "2"
      ]
     },
     "execution_count": 68,
     "metadata": {},
     "output_type": "execute_result"
    }
   ],
   "source": [
    "def flipBitToWin(n):\n",
    "    prev_count = 0\n",
    "    max_count = 0\n",
    "    curr_count = 0\n",
    "    include_zero = False\n",
    "    if n==0:\n",
    "        return 1\n",
    "    \n",
    "    while n:\n",
    "        if n & 1:\n",
    "            curr_count += 1\n",
    "        else:    \n",
    "            prev_count =  curr_count if (n & 2) else 0\n",
    "            curr_count = 0\n",
    "        n = n >> 1\n",
    "        max_count = max(max_count, prev_count + curr_count + 1)\n",
    "    return max_count\n",
    "flipBitToWin(0b1000001)\n",
    "            "
   ]
  },
  {
   "cell_type": "code",
   "execution_count": 2,
   "metadata": {
    "collapsed": false
   },
   "outputs": [
    {
     "name": "stdout",
     "output_type": "stream",
     "text": [
      "0b1 0b10 1\n",
      "0b10 0b1 1\n",
      "0b11 0b101 2\n",
      "0b100 0b10 2\n",
      "0b101 0b110 1\n",
      "0b110 0b101 1\n",
      "0b111 0b1011 4\n",
      "0b1000 0b100 4\n",
      "0b1001 0b1010 1\n",
      "0b1010 0b1001 1\n"
     ]
    }
   ],
   "source": [
    "def nextWeightNumber(n):\n",
    "    max_n = 32\n",
    "    for i in range(max_n):\n",
    "        if ((n >> i) & 1) != ((n >> (i + 1)) & 1):\n",
    "            return n ^ (3 << i)\n",
    "for i in range(1, 11):\n",
    "    j = nextWeightNumber(i)\n",
    "    print(bin(i), bin(j), abs(i-j))"
   ]
  },
  {
   "cell_type": "code",
   "execution_count": 5,
   "metadata": {
    "collapsed": false
   },
   "outputs": [
    {
     "name": "stdout",
     "output_type": "stream",
     "text": [
      "0b0 0\n",
      "0b1 1\n",
      "0b10 1\n",
      "0b11 2\n",
      "0b100 1\n",
      "0b101 2\n",
      "0b110 2\n",
      "0b111 3\n",
      "0b1000 1\n",
      "0b1001 2\n",
      "0b1010 2\n",
      "0b1011 3\n",
      "0b1100 2\n",
      "0b1101 3\n",
      "0b1110 3\n",
      "0b1111 4\n",
      "0b10000 1\n",
      "0b10001 2\n",
      "0b10010 2\n",
      "0b10011 3\n",
      "0b10100 2\n",
      "0b10101 3\n",
      "0b10110 3\n",
      "0b10111 4\n",
      "0b11000 2\n"
     ]
    }
   ],
   "source": [
    "def weightOfBin(n):\n",
    "    i = 0\n",
    "    while n:\n",
    "        if (n & 1):\n",
    "            i += 1\n",
    "        n >>= 1\n",
    "    return i\n",
    "for i in range(25):\n",
    "    print(bin(i), weightOfBin(i))"
   ]
  },
  {
   "cell_type": "code",
   "execution_count": null,
   "metadata": {
    "collapsed": true
   },
   "outputs": [],
   "source": []
  }
 ],
 "metadata": {
  "anaconda-cloud": {},
  "kernelspec": {
   "display_name": "Python [conda root]",
   "language": "python",
   "name": "conda-root-py"
  },
  "language_info": {
   "codemirror_mode": {
    "name": "ipython",
    "version": 3
   },
   "file_extension": ".py",
   "mimetype": "text/x-python",
   "name": "python",
   "nbconvert_exporter": "python",
   "pygments_lexer": "ipython3",
   "version": "3.5.2"
  }
 },
 "nbformat": 4,
 "nbformat_minor": 1
}
