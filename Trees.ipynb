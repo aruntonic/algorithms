{
 "cells": [
  {
   "cell_type": "code",
   "execution_count": 9,
   "metadata": {
    "collapsed": true
   },
   "outputs": [],
   "source": [
    "_null = None\n",
    "def _value_of(node):\n",
    "    \"\"\"Return the value of the node.\"\"\"\n",
    "    return getattr(node, 'value')\n",
    "\n",
    "def _left_of(node):\n",
    "    \"\"\"Return the left child of the node.\"\"\"\n",
    "    return getattr(node, 'left')\n",
    "\n",
    "def _right_of(node):\n",
    "    \"\"\"Return the right child of the node.\"\"\"\n",
    "    return getattr(node, 'right')\n",
    "\n",
    "def _build_str(node):\n",
    "    \"\"\"Recursive function used for pretty-printing the binary tree.\n",
    "    In each recursive call, a \"box\" of characters visually representing the\n",
    "    current subtree is constructed line by line. Each line is padded with\n",
    "    whitespaces to ensure all lines have the same length. The box, its width,\n",
    "    and the start-end positions of its root (used for drawing branches) are\n",
    "    sent up to the parent call, which then combines left and right sub-boxes\n",
    "    to build a bigger box etc.\n",
    "    \"\"\"\n",
    "    if node == _null:\n",
    "        return [], 0, 0, 0\n",
    "\n",
    "    line1 = []\n",
    "    line2 = []\n",
    "    new_root_width = gap_size = len(str(_value_of(node)))\n",
    "\n",
    "    # Get the left and right sub-boxes, their widths and their root positions\n",
    "    l_box, l_box_width, l_root_start, l_root_end = _build_str(_left_of(node))\n",
    "    r_box, r_box_width, r_root_start, r_root_end = _build_str(_right_of(node))\n",
    "\n",
    "    # Draw the branch connecting the new root to the left sub-box,\n",
    "    # padding with whitespaces where necessary\n",
    "    if l_box_width > 0:\n",
    "        l_root = -int(-(l_root_start + l_root_end) / 2) + 1  # ceiling\n",
    "        line1.append(' ' * (l_root + 1))\n",
    "        line1.append('_' * (l_box_width - l_root))\n",
    "        line2.append(' ' * l_root + '/')\n",
    "        line2.append(' ' * (l_box_width - l_root))\n",
    "        new_root_start = l_box_width + 1\n",
    "        gap_size += 1\n",
    "    else:\n",
    "        new_root_start = 0\n",
    "\n",
    "    # Draw the representation of the new root\n",
    "    line1.append(str(_value_of(node)))\n",
    "    line2.append(' ' * new_root_width)\n",
    "\n",
    "    # Draw the branch connecting the new root to the right sub-box,\n",
    "    # padding with whitespaces where necessary\n",
    "    if r_box_width > 0:\n",
    "        r_root = int((r_root_start + r_root_end) / 2)  # floor\n",
    "        line1.append('_' * r_root)\n",
    "        line1.append(' ' * (r_box_width - r_root + 1))\n",
    "        line2.append(' ' * r_root + '\\\\')\n",
    "        line2.append(' ' * (r_box_width - r_root))\n",
    "        gap_size += 1\n",
    "    new_root_end = new_root_start + new_root_width - 1\n",
    "\n",
    "    # Combine the left and right sub-boxes with the branches drawn above\n",
    "    gap = ' ' * gap_size\n",
    "    new_box = [''.join(line1), ''.join(line2)]\n",
    "    for i in range(max(len(l_box), len(r_box))):\n",
    "        l_line = l_box[i] if i < len(l_box) else ' ' * l_box_width\n",
    "        r_line = r_box[i] if i < len(r_box) else ' ' * r_box_width\n",
    "        new_box.append(l_line + gap + r_line)\n",
    "\n",
    "    # Return the new box, its width and its root positions\n",
    "    return new_box, len(new_box[0]), new_root_start, new_root_end\n",
    "\n",
    "def print_tree(root):\n",
    "    print('\\n' + '\\n'.join(_build_str(root)[0]))"
   ]
  },
  {
   "cell_type": "code",
   "execution_count": 10,
   "metadata": {
    "collapsed": false
   },
   "outputs": [],
   "source": [
    "class Node:\n",
    "    def __init__(self, val, left=None, right=None):\n",
    "        self.value = val\n",
    "        self.left = left\n",
    "        self.right = right\n",
    "        self.parent = None\n",
    "        \n",
    "class BinaryTree:\n",
    "    def __init__(self, nodes, edges):\n",
    "            \n",
    "        dummy = {x:Node(x) for x in nodes}\n",
    "        dummy[None] = None\n",
    "        for k, (l, r) in edges.items():\n",
    "            dummy[k].left = dummy[l]\n",
    "            dummy[k].right = dummy[r]\n",
    "            if dummy[l]:\n",
    "                dummy[l].parent = dummy[k]\n",
    "            if dummy[r]:\n",
    "                dummy[r].parent = dummy[k]\n",
    "\n",
    "            \n",
    "        self.root = dummy[nodes[0]]\n",
    "        #print(self)\n",
    "        \n",
    "    def __str__(self):\n",
    "        return '\\n' + '\\n'.join(_build_str(self.root)[0])        "
   ]
  },
  {
   "cell_type": "code",
   "execution_count": null,
   "metadata": {
    "collapsed": false
   },
   "outputs": [],
   "source": []
  },
  {
   "cell_type": "code",
   "execution_count": null,
   "metadata": {
    "collapsed": false
   },
   "outputs": [],
   "source": [
    "t = BinaryTree(1,2,3,4,5,6,None,None,8,None,None,None,9,None,None, None, None, None,10)\n",
    "\n",
    "def right_view_of_bt(root):\n",
    "    q = [root, None]\n",
    "    right = root.val\n",
    "    while q:\n",
    "        #print([i if i is None else i.val for i in q])\n",
    "        n = q.pop(0)\n",
    "        if n is None:\n",
    "            print(right)\n",
    "            if q:\n",
    "                q.append(None)\n",
    "        else:\n",
    "            right = n.val\n",
    "            if n.left:\n",
    "                q.append(n.left)\n",
    "            if n.right:\n",
    "                q.append(n.right)\n",
    "                \n",
    "def left_view_of_bt(root):\n",
    "    q = [root, None]\n",
    "    left = root.val\n",
    "    while q:\n",
    "        #print([i if i is None else i.val for i in q])\n",
    "        n = q.pop(0)\n",
    "        if n is None:\n",
    "            print(left)\n",
    "            if q:\n",
    "                q.append(None)\n",
    "        else:\n",
    "            left = n.val\n",
    "            if n.right:\n",
    "                q.append(n.right)\n",
    "            if n.left:\n",
    "                q.append(n.left)\n",
    "            \n",
    "                \n",
    "left_view_of_bt(t.root)"
   ]
  },
  {
   "cell_type": "code",
   "execution_count": null,
   "metadata": {
    "collapsed": false
   },
   "outputs": [],
   "source": [
    "t = BinaryTree(1,2,3,4,5,6,7,None,8,None,None,None,None,None,None,None,None,None,None,None,9)\n",
    "\n",
    "def no_sibling_nodes(root):\n",
    "    if root is None or root.left is None and root.right is None:\n",
    "        return None\n",
    "    \n",
    "    if not root.left and root.right:\n",
    "        print(root.right.val)\n",
    "    if not root.right and root.left:\n",
    "        print(root.left.val)\n",
    "    no_sibling_nodes(root.left)\n",
    "    no_sibling_nodes(root.right)\n",
    "    \n",
    "no_sibling_nodes(t.root)"
   ]
  },
  {
   "cell_type": "code",
   "execution_count": null,
   "metadata": {
    "collapsed": false
   },
   "outputs": [],
   "source": [
    "nodes = [1,2,3,4,5,6,7,8,9]\n",
    "edges = {\n",
    "    1: (2,3),\n",
    "    2: (4,5),\n",
    "    3: (6,7),\n",
    "    4: (None, 8),\n",
    "    8:(9, None),\n",
    "}\n",
    "t = BinaryTree(nodes, edges)\n",
    "\n",
    "def sum_all_left_leaves(root):\n",
    "    if root is None or root.left is None and root.right is None:\n",
    "        return 0\n",
    "    _sum = sum_all_left_leaves(root.left)\n",
    "    #print(_sum)\n",
    "    _sum += sum_all_left_leaves(root.right)\n",
    "    #print(_sum)\n",
    "    #print(root.val)\n",
    "    if root.left and root.left.left is None and root.left.right is None:\n",
    "        _sum += root.left.val\n",
    "    #print(_sum)\n",
    "    return _sum  \n",
    "sum_all_left_leaves(t.root)\n",
    "#print_tree(t.root)"
   ]
  },
  {
   "cell_type": "code",
   "execution_count": null,
   "metadata": {
    "collapsed": false
   },
   "outputs": [],
   "source": [
    "nodes = [1,2,3,4,5,6,7,8,9]\n",
    "edges = {\n",
    "    1: (2,3),\n",
    "    2: (4,5),\n",
    "    3: (6,7),\n",
    "    #4: (None, 8),\n",
    "    #8:(9, None),\n",
    "}\n",
    "t = BinaryTree(nodes, edges)\n",
    "def is_full(root):\n",
    "    if root is None or root.left is None and root.right is None:\n",
    "        return True\n",
    "    return root.left is not None and root.right is not None and is_full(root.left) and is_full(root.right) \n",
    "is_full(t.root)\n",
    "\n",
    "def is_complete(root):\n",
    "    if root is None or root.left is None and root.right is None:\n",
    "        return True\n",
    "    return root.left is not None and root.right is not None and is_full(root.left) and is_full(root.right) "
   ]
  },
  {
   "cell_type": "code",
   "execution_count": null,
   "metadata": {
    "collapsed": false
   },
   "outputs": [],
   "source": [
    "def check_pre_order_array_has_one_child(arr):\n",
    "    _min = arr[-1]\n",
    "    _max = arr[-1]\n",
    "    for i in range(len(arr) - 2, -1, -1):\n",
    "        if _min < arr[i] < _max:\n",
    "            return False\n",
    "        _min = min(_min, arr[i])\n",
    "        _max = max(_max, arr[i])\n",
    "    return True\n",
    "\n",
    "#check_pre_order_array_has_one_child([9,8,5,7,6])  # True\n",
    "#check_pre_order_array_has_one_child([8,5,4,7,6]) #True          "
   ]
  },
  {
   "cell_type": "code",
   "execution_count": null,
   "metadata": {
    "collapsed": false
   },
   "outputs": [],
   "source": [
    "nodes = [1,2,3,4,5,6,7,8,9]\n",
    "edges = {\n",
    "    1: (2,3),\n",
    "    2: (4,5),\n",
    "    3: (6,7),\n",
    "    #4: (None, 8),\n",
    "    #8:(9, None),\n",
    "}\n",
    "t = BinaryTree(nodes, edges)\n",
    "def mirror_tree(root):\n",
    "    if root is None:\n",
    "        return\n",
    "    root.left, root.right = root.right, root.left\n",
    "    mirror_tree(root.left)\n",
    "    mirror_tree(root.right)\n",
    "mirror_tree(t.root)  \n",
    "print(t)"
   ]
  },
  {
   "cell_type": "code",
   "execution_count": null,
   "metadata": {
    "collapsed": false
   },
   "outputs": [],
   "source": [
    "def merge(arr1, arr2):\n",
    "    j = 0\n",
    "    i = 0\n",
    "    counter = 25\n",
    "    while i < len(arr1) and j < len(arr2) and counter != 0:\n",
    "        counter -= 1\n",
    "        if arr1[i] is None:\n",
    "            arr1[i] = arr2[j]\n",
    "            j += 1\n",
    "        elif arr1[i] > arr2[j]:\n",
    "            arr1[i], arr2[j] = arr2[j], arr1[i]\n",
    "            i += 1\n",
    "        elif arr1[i] < arr2[j]:\n",
    "            i += 1\n",
    "    print(counter)\n",
    "    return arr1\n",
    "merge([-3,5,None,7,None, 10, None, 11, None], [-1,2,6,12]) "
   ]
  },
  {
   "cell_type": "code",
   "execution_count": null,
   "metadata": {
    "collapsed": false
   },
   "outputs": [],
   "source": [
    "graph = {\n",
    "    1 : (2,3,4),\n",
    "    2 : (5,),\n",
    "    3 : (2,),\n",
    "    4 : (5, 6),\n",
    "}\n",
    "\n",
    "visited = set()\n",
    "def route_dfs(n1, n2):\n",
    "    print(n1)\n",
    "    if n1 == n2:\n",
    "        return True\n",
    "    visited.add(n1)\n",
    "    \n",
    "    for n in graph.get(n1, []):\n",
    "        if n not in visited and (n == n2 or route_dfs(n, n2)):\n",
    "            return True\n",
    "    return False\n",
    "\n",
    "#route_dfs(1, 6)  \n",
    "\n",
    "def route_bfs(n1, n2):\n",
    "    q = [n1,]\n",
    "    while q:\n",
    "        n = q.pop(0)\n",
    "        print(n)\n",
    "        if n == n2:\n",
    "            return True\n",
    "        visited.add(n)\n",
    "        for k in graph.get(n, []):\n",
    "            if k not in visited:\n",
    "                q.append(k)\n",
    "    return False\n",
    "route_bfs(3,6)                "
   ]
  },
  {
   "cell_type": "code",
   "execution_count": null,
   "metadata": {
    "collapsed": false
   },
   "outputs": [],
   "source": [
    "class BinaryTreeNode:\n",
    "    def __init__(self, value, left=None, right=None):\n",
    "        self.value = value\n",
    "        self.left = left\n",
    "        self.right = right\n",
    "        \n",
    "def build_BST(inorder):\n",
    "    if not inorder:\n",
    "        return None\n",
    "    \n",
    "    mid = len(inorder)//2\n",
    "    return BinaryTreeNode(inorder[mid],\n",
    "                         build_BST(inorder[:mid]),\n",
    "                         build_BST(inorder[mid+1:]))\n",
    "\n",
    "def print_tree_(root):\n",
    "    return '\\n'.join([''.join(l) for l in _build_str(root)])\n",
    "    \n",
    "    \n",
    "def _build_str(root):\n",
    "    if root is None:\n",
    "        return []\n",
    "    \n",
    "    root_str = list(str(root.value))\n",
    "    root_left = _build_str(root.left)\n",
    "    root_right = _build_str(root.right)\n",
    "    \n",
    "    s = len(root_str)\n",
    "    \n",
    "    l =  s + (len(root_left[0]) if root_left else 0) +  (len(root_right[0]) if root_right else 0)\n",
    "    \n",
    "    \n",
    "    n_l = [' '] * l \n",
    "    i = (l // 2) - (s // 2) \n",
    "    n_l[i:i+ s] = root_str\n",
    "    \n",
    "    b_l= [' '] * l\n",
    "    if root_left:\n",
    "        b_l[i-1] = '/'\n",
    "    if root_right:\n",
    "        b_l[i+s-1] = '\\\\'\n",
    "    \n",
    "    ret = [n_l, b_l,]\n",
    "    for line in root_left:\n",
    "        if line:\n",
    "            ret.append(list(line) + [' '] * (l - len(line)))\n",
    "            \n",
    "    for i, line in enumerate(root_right, 2):\n",
    "        #print(ret)\n",
    "        if line:\n",
    "            if i > len(ret):\n",
    "                ret.append([' ']  * l)\n",
    "            ret[i][-len(line):] = list(line)\n",
    "    #print(ret)\n",
    "    #print('_' * 20)\n",
    "    return ret\n",
    "   \n",
    "print(print_tree(build_BST(list(range(15)))))"
   ]
  },
  {
   "cell_type": "code",
   "execution_count": null,
   "metadata": {
    "collapsed": false
   },
   "outputs": [],
   "source": [
    "nodes = [1,2,3,4,5,6,7]\n",
    "edges = {\n",
    "    1: (2,3),\n",
    "    2: (4,5),\n",
    "    3: (6,7),\n",
    "    #4: (None, None),\n",
    "\n",
    "    #8:(9, None),\n",
    "}\n",
    "t = BinaryTree(nodes, edges)\n",
    "  "
   ]
  },
  {
   "cell_type": "code",
   "execution_count": null,
   "metadata": {
    "collapsed": false
   },
   "outputs": [],
   "source": [
    "def bfs(r):\n",
    "    q = [r, None]\n",
    "    ret = []\n",
    "    cur = []\n",
    "    #count = 0\n",
    "    while q: # and count < 10:\n",
    "        #count += 1\n",
    "        n = q.pop(0)\n",
    "        #print(q)\n",
    "        if n is None:\n",
    "            ret.append(cur)\n",
    "            cur = []\n",
    "            if q:\n",
    "                q.append(None)\n",
    "            continue\n",
    "        cur.append(n.value)\n",
    "        if n.left:\n",
    "            q.append(n.left)\n",
    "        if n.right:\n",
    "            q.append(n.right)\n",
    "    return ret\n",
    "bfs(t.root)    "
   ]
  },
  {
   "cell_type": "code",
   "execution_count": null,
   "metadata": {
    "collapsed": false
   },
   "outputs": [],
   "source": [
    "def level_list(r):\n",
    "    ll = []\n",
    "    def dfs(r, level):\n",
    "        if r is None:\n",
    "            return\n",
    "        \n",
    "        if level >= len(ll):\n",
    "            ll.append([])\n",
    "        #print(level)\n",
    "        ll[level - 1].append(r.value)\n",
    "        dfs(r.left, level+1)\n",
    "        dfs(r.right, level+1)\n",
    "    dfs(r, 1)\n",
    "    return ll\n",
    "level_list(t.root)"
   ]
  },
  {
   "cell_type": "code",
   "execution_count": null,
   "metadata": {
    "collapsed": false
   },
   "outputs": [],
   "source": [
    "nodes = [1,2,3,4,5,6,7, 8, 9]\n",
    "edges = {\n",
    "    1: (2,3),\n",
    "    2: (4,5),\n",
    "    3: (6,7),\n",
    "    4: (8, None),\n",
    "\n",
    "    8:(9, None),\n",
    "}\n",
    "t = BinaryTree(nodes, edges)\n",
    "def check_balance(r):\n",
    "    if r is None:\n",
    "        return 0\n",
    "    l = check_balance(r.left)\n",
    "    r = check_balance(r.right)\n",
    "    if l == -1 or r == -1 or abs(l - r) > 1:\n",
    "        return -1\n",
    "    return 1 + max(l, r)\n",
    "check_balance(t.root)"
   ]
  },
  {
   "cell_type": "code",
   "execution_count": 11,
   "metadata": {
    "collapsed": false
   },
   "outputs": [],
   "source": [
    "prev_value = None\n",
    "\n",
    "def inorder(root):\n",
    "    if root is None:\n",
    "        return None\n",
    "    return inorder(root.left) or visit(root) or inorder(root.right)\n",
    "\n",
    "def visit(node):\n",
    "    global prev_value\n",
    "    \n",
    "    if node is None:\n",
    "        return None\n",
    "    \n",
    "    if prev_value == target:\n",
    "        return node\n",
    "    else:\n",
    "        prev_value = node.value\n",
    "        return None\n",
    "target = 3\n",
    "n = inorder(t.root)"
   ]
  },
  {
   "cell_type": "code",
   "execution_count": 4,
   "metadata": {
    "collapsed": false
   },
   "outputs": [
    {
     "name": "stdout",
     "output_type": "stream",
     "text": [
      "\n",
      "        __1__    \n",
      "       /     \\   \n",
      "      2       3  \n",
      "     / \\     / \\ \n",
      "    4   5   6   7\n",
      "   /             \n",
      "  8              \n",
      " /               \n",
      "9                \n",
      "                 \n"
     ]
    }
   ],
   "source": [
    "nodes = [1,2,3,4,5,6,7, 8, 9]\n",
    "edges = {\n",
    "    1: (2,3),\n",
    "    2: (4,5),\n",
    "    3: (6,7),\n",
    "    4: (8, None),\n",
    "\n",
    "    8:(9, None),\n",
    "}\n",
    "t = BinaryTree(nodes, edges)\n",
    "print_tree(t.root)"
   ]
  },
  {
   "cell_type": "code",
   "execution_count": 6,
   "metadata": {
    "collapsed": true
   },
   "outputs": [],
   "source": [
    "def inorderSucc(n):\n",
    "    if n is None:\n",
    "        return None\n",
    "    if n.right is not None:\n",
    "        x = n.right\n",
    "        while x.left:\n",
    "            x = x.left\n",
    "        return x         \n",
    "    else:\n",
    "        q = n\n",
    "        x = q.parent\n",
    "        while x and x.right is q:\n",
    "            q = x\n",
    "            x = q.parent\n",
    "        return x  "
   ]
  },
  {
   "cell_type": "code",
   "execution_count": 12,
   "metadata": {
    "collapsed": false
   },
   "outputs": [
    {
     "ename": "AttributeError",
     "evalue": "'NoneType' object has no attribute 'value'",
     "output_type": "error",
     "traceback": [
      "\u001b[0;31m---------------------------------------------------------------------------\u001b[0m",
      "\u001b[0;31mAttributeError\u001b[0m                            Traceback (most recent call last)",
      "\u001b[0;32m<ipython-input-12-2ca804cddaf8>\u001b[0m in \u001b[0;36m<module>\u001b[0;34m()\u001b[0m\n\u001b[0;32m----> 1\u001b[0;31m \u001b[0minorderSucc\u001b[0m\u001b[0;34m(\u001b[0m\u001b[0mn\u001b[0m\u001b[0;34m)\u001b[0m\u001b[0;34m.\u001b[0m\u001b[0mvalue\u001b[0m\u001b[0;34m\u001b[0m\u001b[0m\n\u001b[0m",
      "\u001b[0;31mAttributeError\u001b[0m: 'NoneType' object has no attribute 'value'"
     ]
    }
   ],
   "source": [
    "inorderSucc(n).value"
   ]
  },
  {
   "cell_type": "code",
   "execution_count": 25,
   "metadata": {
    "collapsed": false
   },
   "outputs": [],
   "source": [
    "def weave(f, s, r, pre):\n",
    "    if not f or not s:\n",
    "        r.append(pre + f + s)\n",
    "        return\n",
    "    weave(f[1:], s, r, pre + [f[0]])\n",
    "    weave(f, s[1:], r, pre+ [s[0]])\n",
    "# r = []\n",
    "# pre = []\n",
    "# weave([1,2,3], [4,5], r, pre)\n",
    "\n",
    "def dfs(root):\n",
    "    if root is None:\n",
    "        return [[]]\n",
    "    if root.left is None and root.right is None:\n",
    "        return [[root.value,]]\n",
    "#     l = dfs(root.left)\n",
    "#     r = dfs(root.right)\n",
    "    ret = []\n",
    "    for l in dfs(root.left):\n",
    "        for r in dfs(root.right):\n",
    "            weave(l, r, ret, [])\n",
    "    return [ [root.value,] + i for i in ret]"
   ]
  },
  {
   "cell_type": "code",
   "execution_count": 29,
   "metadata": {
    "collapsed": false
   },
   "outputs": [
    {
     "name": "stdout",
     "output_type": "stream",
     "text": [
      "\n",
      "  __5__  \n",
      " /     \\ \n",
      "3       7\n",
      " \\     / \n",
      "  4   9  \n",
      "         \n"
     ]
    }
   ],
   "source": [
    "nodes = [5,3,7,1,4,6,9]\n",
    "edges = {\n",
    "    5: (3,7),\n",
    "    3: (None,4),\n",
    "    7: (9,None),\n",
    "}\n",
    "t = BinaryTree(nodes, edges)\n",
    "print_tree(t.root)"
   ]
  },
  {
   "cell_type": "code",
   "execution_count": 30,
   "metadata": {
    "collapsed": false
   },
   "outputs": [
    {
     "name": "stdout",
     "output_type": "stream",
     "text": [
      "6\n"
     ]
    },
    {
     "data": {
      "text/plain": [
       "6"
      ]
     },
     "execution_count": 30,
     "metadata": {},
     "output_type": "execute_result"
    }
   ],
   "source": [
    "r = dfs(t.root)\n",
    "print(len(r))\n",
    "len(set(map(tuple, r)))"
   ]
  },
  {
   "cell_type": "code",
   "execution_count": 31,
   "metadata": {
    "collapsed": false
   },
   "outputs": [
    {
     "data": {
      "text/plain": [
       "[[5, 3, 4, 7, 9],\n",
       " [5, 3, 7, 4, 9],\n",
       " [5, 3, 7, 9, 4],\n",
       " [5, 7, 3, 4, 9],\n",
       " [5, 7, 3, 9, 4],\n",
       " [5, 7, 9, 3, 4]]"
      ]
     },
     "execution_count": 31,
     "metadata": {},
     "output_type": "execute_result"
    }
   ],
   "source": [
    "r"
   ]
  },
  {
   "cell_type": "code",
   "execution_count": 32,
   "metadata": {
    "collapsed": true
   },
   "outputs": [],
   "source": [
    "def checkPalindrome(inputString):\n",
    "    l = len(inputString)\n",
    "    mid = l // 2\n",
    "    if l% 2:\n",
    "        return inputString[:mid] == inputString[mid+1:][::-1]\n",
    "    return inputString[:mid] == inputString[mid:][::-1]"
   ]
  },
  {
   "cell_type": "code",
   "execution_count": 36,
   "metadata": {
    "collapsed": false
   },
   "outputs": [
    {
     "data": {
      "text/plain": [
       "False"
      ]
     },
     "execution_count": 36,
     "metadata": {},
     "output_type": "execute_result"
    }
   ],
   "source": [
    "checkPalindrome('abcdba')"
   ]
  },
  {
   "cell_type": "code",
   "execution_count": null,
   "metadata": {
    "collapsed": true
   },
   "outputs": [],
   "source": [
    "def func():\n",
    "    "
   ]
  }
 ],
 "metadata": {
  "anaconda-cloud": {},
  "kernelspec": {
   "display_name": "Python [conda root]",
   "language": "python",
   "name": "conda-root-py"
  },
  "language_info": {
   "codemirror_mode": {
    "name": "ipython",
    "version": 3
   },
   "file_extension": ".py",
   "mimetype": "text/x-python",
   "name": "python",
   "nbconvert_exporter": "python",
   "pygments_lexer": "ipython3",
   "version": "3.5.2"
  }
 },
 "nbformat": 4,
 "nbformat_minor": 1
}
