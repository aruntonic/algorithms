{
 "cells": [
  {
   "cell_type": "code",
   "execution_count": null,
   "metadata": {
    "collapsed": true
   },
   "outputs": [],
   "source": [
    "def sortedmerge(a, b):\n",
    "    A = len(a) - 1\n",
    "    B = len(b) - 1\n",
    "    C = A + B + 1\n",
    "    a += [''] * (B + 1)\n",
    "        \n",
    "    while B >= 0:\n",
    "        if a[A] > b[B]:\n",
    "            a[C] = a[A]\n",
    "            A -= 1\n",
    "        else:\n",
    "            a[C] = b[B]\n",
    "            B -= 1\n",
    "        C -= 1\n",
    "    return a"
   ]
  },
  {
   "cell_type": "code",
   "execution_count": null,
   "metadata": {
    "collapsed": false
   },
   "outputs": [],
   "source": [
    "sortedmerge([1,4,5,10,12], [2,3,6,8,9,10])"
   ]
  },
  {
   "cell_type": "markdown",
   "metadata": {},
   "source": [
    "class Solution(object):\n",
    "    \n",
    "    def groupAnagrams(self, strs):\n",
    "        \"\"\"\n",
    "        :type strs: List[str]\n",
    "        :rtype: List[List[str]]\n",
    "        \"\"\"\n",
    "        if not strs:\n",
    "            return []\n",
    "        from collections import defaultdict\n",
    "        t = defaultdict(list)\n",
    "        for x in strs:\n",
    "            t[''.join(sorted(x))].append(x)\n",
    "        return t.values()"
   ]
  },
  {
   "cell_type": "markdown",
   "metadata": {},
   "source": [
    "private static final int[] PRIMES = new int[]{2, 3, 5, 7, 11 ,13, 17, 19, 23, 29, 31, 37, 41, 43, 47, 53, 59, 61, 67, 71, 73, 79, 83, 89, 97, 101, 107};\n",
    "    \n",
    "    public List<String> anagrams(String[] strs) {\n",
    "        List<String> list = new LinkedList<>();\n",
    "        Map<Integer, List<String>> mapString = new HashMap<>();\n",
    "        int result = -1;\n",
    "        for (int i = 0; i < strs.length; i++){\n",
    "            int mapping = 1;\n",
    "            for (int j = 0, max = strs[i].length(); j < max; j++) {\n",
    "                mapping *= PRIMES[strs[i].charAt(j) - 'a'];\n",
    "            }\n",
    "            List<String> strings = mapString.get(mapping);\n",
    "            if (strings == null) {\n",
    "                strings = new LinkedList<>();\n",
    "                mapString.put(mapping, strings);\n",
    "            }\n",
    "            strings.add(strs[i]);\n",
    "        }\n",
    "        for (List<String> mapList : mapString.values()){\n",
    "            if (mapList.size() > 1)\n",
    "                list.addAll(mapList);\n",
    "        }\n",
    "        return list;\n",
    "    }"
   ]
  },
  {
   "cell_type": "code",
   "execution_count": null,
   "metadata": {
    "collapsed": true
   },
   "outputs": [],
   "source": [
    "def search_rotated_array(nums, target):\n",
    "    \"\"\"\n",
    "    :type nums: List[int]\n",
    "    :type target: int\n",
    "    :rtype: int\n",
    "    \"\"\"\n",
    "    low = 0\n",
    "    high = len(nums)\n",
    "    while low < high:\n",
    "        mid = (low + high )//2\n",
    "        if nums[mid] == target:\n",
    "            return mid\n",
    "        elif nums[low] < nums[mid]:\n",
    "            if nums[low] <= target <= nums[mid]:\n",
    "                high = mid\n",
    "            else:\n",
    "                low = mid + 1\n",
    "        elif nums[mid] <= target <= nums[high - 1]:\n",
    "            low = mid + 1\n",
    "        else:\n",
    "            high = mid\n",
    "    return -1"
   ]
  },
  {
   "cell_type": "code",
   "execution_count": null,
   "metadata": {
    "collapsed": false
   },
   "outputs": [],
   "source": [
    "def nex(l, i, n=1):\n",
    "    while l[i] == '':\n",
    "        i += n\n",
    "    return i\n",
    "\n",
    "def sparse_search(l, target):\n",
    "    low = nex(l, 0, 1)\n",
    "    high = nex(l, len(l)-1, -1)\n",
    "    \n",
    "    while low <= high:\n",
    "        mid = nex(l, (low + high) // 2, -1)\n",
    "        if l[mid] == target:\n",
    "            return mid\n",
    "        elif l[mid] < target:\n",
    "            low = nex(l, mid + 1, 1)\n",
    "        else:\n",
    "            high = nex(l, mid-1, -1)\n",
    "    return -1   \n",
    "sparse_search(['at', '','','','ball','','','car','','','dad','','',], 'car')"
   ]
  },
  {
   "cell_type": "code",
   "execution_count": null,
   "metadata": {
    "collapsed": true
   },
   "outputs": [],
   "source": [
    "def binary_search(a, l, h, t):\n",
    "    while l < h:\n",
    "        m = (l + h)//2\n",
    "        if a[m] == t:\n",
    "            return m\n",
    "        elif a[m] < t:\n",
    "            l = m + 1\n",
    "        else:\n",
    "            h = m"
   ]
  },
  {
   "cell_type": "code",
   "execution_count": null,
   "metadata": {
    "collapsed": true
   },
   "outputs": [],
   "source": [
    "def sorted_search_no_size(a, t):\n",
    "    i = 1\n",
    "    while i < len(a) and a[i] < t:\n",
    "        i *= 2\n",
    "    if i >= len(a):\n",
    "        return -1\n",
    "    return binary_search(a, int(i/2), i, t)"
   ]
  },
  {
   "cell_type": "code",
   "execution_count": null,
   "metadata": {
    "collapsed": false
   },
   "outputs": [],
   "source": [
    "sorted_search_no_size(list(range(25)), -1)"
   ]
  },
  {
   "cell_type": "code",
   "execution_count": 8,
   "metadata": {
    "collapsed": false
   },
   "outputs": [
    {
     "name": "stdout",
     "output_type": "stream",
     "text": [
      "[15, 72, 82, 90, 94, 98, 98, 98, 98, 99] [1, 10, 10, 12, 13, 20, 23, 75, 83, 90]\n"
     ]
    },
    {
     "data": {
      "text/plain": [
       "90"
      ]
     },
     "execution_count": 8,
     "metadata": {},
     "output_type": "execute_result"
    }
   ],
   "source": [
    "def max_population(arr):\n",
    "    births, deaths = zip(*arr)\n",
    "    births = sorted(births)\n",
    "    deaths = sorted(deaths)\n",
    "    \n",
    "    print(deaths, births)\n",
    "    \n",
    "    i = 1\n",
    "    j = 0\n",
    "    max_year = 0\n",
    "    max_count = 0\n",
    "    \n",
    "    curr_year = births[0]\n",
    "    curr_count = 1\n",
    "    while i < len(deaths):\n",
    "        if births[i] <= deaths[j]:\n",
    "            curr_count+= 1\n",
    "            if curr_count > max_count:\n",
    "                max_count = curr_count\n",
    "                max_year = births[i]\n",
    "            i+=1\n",
    "        else:\n",
    "            curr_count -= 1\n",
    "            j+=1\n",
    "        \n",
    "    return max_year\n",
    "max_population([[12, 15], [20,90], [10, 98], [1,72], [10,98], [23, 82], [13,98], [90,98], [83,99], [75, 94]])"
   ]
  },
  {
   "cell_type": "code",
   "execution_count": 12,
   "metadata": {
    "collapsed": false
   },
   "outputs": [
    {
     "data": {
      "text/plain": [
       "90"
      ]
     },
     "execution_count": 12,
     "metadata": {},
     "output_type": "execute_result"
    }
   ],
   "source": [
    "def max_population_2(arr):\n",
    "    min = 1900\n",
    "    max = 2000\n",
    "    \n",
    "    delta = [0] * (max-min+1)\n",
    "    \n",
    "    for b, d in arr:\n",
    "        delta[b] += 1\n",
    "        delta[d + 1] -= 1\n",
    "        \n",
    "    curr_count = 0\n",
    "    max_count = 0\n",
    "    max_year = 0\n",
    "    \n",
    "    for y in range(len(delta)):\n",
    "        curr_count += delta[y]\n",
    "        if curr_count > max_count:\n",
    "            max_year = y\n",
    "            max_count = curr_count\n",
    "#     print(delta)\n",
    "    return max_year\n",
    "max_population_2([[12, 15], [20,90], [10, 98], [1,72], [10,98], [23, 82], [13,98], [90,98], [83,99], [75, 94]])"
   ]
  },
  {
   "cell_type": "code",
   "execution_count": 20,
   "metadata": {
    "collapsed": false
   },
   "outputs": [
    {
     "data": {
      "text/plain": [
       "(1, 5)"
      ]
     },
     "execution_count": 20,
     "metadata": {},
     "output_type": "execute_result"
    }
   ],
   "source": [
    "def subsort(arr):\n",
    "    m = 0 \n",
    "    n = len(arr) - 1\n",
    "    \n",
    "    while m < n and arr[m+1] >= arr[m]:\n",
    "        m += 1\n",
    "    while m < n and arr[n] >= arr[n-1]:\n",
    "        n -= 1\n",
    "        \n",
    "    if m >= n:\n",
    "        return 0, 0\n",
    "    else:\n",
    "        _min_i = _max_i = m + 1\n",
    "        i = m + 2\n",
    "        while i < n:\n",
    "            if arr[i] > arr[_max_i]:\n",
    "                _max_i = i\n",
    "            if arr[i] < arr[_min_i]:\n",
    "                _min_i = i\n",
    "            i += 1\n",
    "        \n",
    "        while n < len(arr) and arr[n] < arr[_max_i]:\n",
    "            n += 1\n",
    "        while m >= 0 and arr[m] > arr[_min_i]:\n",
    "            m -= 1\n",
    "    return m, n - 1\n",
    "subsort([1,2,10,9,4,3])\n",
    "        \n",
    "        \n",
    "            \n",
    "        \n",
    "    "
   ]
  },
  {
   "cell_type": "code",
   "execution_count": null,
   "metadata": {
    "collapsed": true
   },
   "outputs": [],
   "source": []
  }
 ],
 "metadata": {
  "anaconda-cloud": {},
  "kernelspec": {
   "display_name": "Python [default]",
   "language": "python",
   "name": "python3"
  },
  "language_info": {
   "codemirror_mode": {
    "name": "ipython",
    "version": 3
   },
   "file_extension": ".py",
   "mimetype": "text/x-python",
   "name": "python",
   "nbconvert_exporter": "python",
   "pygments_lexer": "ipython3",
   "version": "3.5.2"
  }
 },
 "nbformat": 4,
 "nbformat_minor": 1
}
