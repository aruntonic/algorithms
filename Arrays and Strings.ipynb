{
 "cells": [
  {
   "cell_type": "code",
   "execution_count": null,
   "metadata": {
    "collapsed": true
   },
   "outputs": [],
   "source": [
    "def isUnique(s):\n",
    "    '''\n",
    "    check string has unique characters without additional data structure\n",
    "    '''\n",
    "    # return len(list(s)) == len(set(s))\n",
    "    \n",
    "    # solution 2 - n log n\n",
    "    s_s = sorted(s)\n",
    "    for i in range(1, len(s)):\n",
    "        if s_s[i-1] == s_s[i]:\n",
    "            return False\n",
    "    return True\n",
    "    \n",
    "    # solution 3 use bit_vector or boolean array\n",
    "    # chcek if it is ASCII or unicode string"
   ]
  },
  {
   "cell_type": "code",
   "execution_count": null,
   "metadata": {
    "collapsed": false
   },
   "outputs": [],
   "source": [
    "isUnique('abca')"
   ]
  },
  {
   "cell_type": "code",
   "execution_count": null,
   "metadata": {
    "collapsed": false
   },
   "outputs": [],
   "source": [
    "def checkPermutation(s1, s2):\n",
    "    '''\n",
    "    case sensitive \n",
    "    '''\n",
    "    if len(s1) != len(s2):\n",
    "        return False\n",
    "    \n",
    "    l = [0] * 256\n",
    "    for s in s1:\n",
    "        l[ord(s)] += 1\n",
    "    for s in s2:\n",
    "        l[ord(s)] -= 1\n",
    "    return not any(l)\n",
    "checkPermutation('abcdef', 'fedcab')  "
   ]
  },
  {
   "cell_type": "code",
   "execution_count": null,
   "metadata": {
    "collapsed": false
   },
   "outputs": [],
   "source": [
    "def urlify(s, act_len):\n",
    "    s = list(s)\n",
    "    i = act_len - 1\n",
    "    j = len(s) - 1\n",
    "    while i:\n",
    "        if s[i] != ' ':\n",
    "            s[j] = s[i]\n",
    "            \n",
    "            j -= 1\n",
    "        else:\n",
    "            s[j-2:j+1] = \"%20\"\n",
    "            j -= 3\n",
    "        i -= 1\n",
    "        #print(s)\n",
    "    return ''.join(s)\n",
    "urlify('Mr John Smith    ', 13)"
   ]
  },
  {
   "cell_type": "code",
   "execution_count": null,
   "metadata": {
    "collapsed": true
   },
   "outputs": [],
   "source": [
    "import string\n",
    "def toggle_bit(vector, offset):\n",
    "    mask = 1 << offset\n",
    "    return vector ^ mask\n",
    "\n",
    "def palindromePermutation(s):\n",
    "    vector = 0\n",
    "    lowercase = string.ascii_lowercase\n",
    "    for x in s.lower().replace(' ', ''):\n",
    "        vector = toggle_bit(vector, lowercase.index(x))\n",
    "    return (vector & (vector -1)) == 0"
   ]
  },
  {
   "cell_type": "code",
   "execution_count": null,
   "metadata": {
    "collapsed": false
   },
   "outputs": [],
   "source": [
    "palindromePermutation('Tact Coa')"
   ]
  },
  {
   "cell_type": "code",
   "execution_count": null,
   "metadata": {
    "collapsed": false
   },
   "outputs": [],
   "source": [
    "def stringCompression(s):\n",
    "    prev = s[0]\n",
    "    res = [s[0], ]\n",
    "    max_len = len(s) - 1\n",
    "    count = 1\n",
    "    \n",
    "    for x in s[1:]:\n",
    "        if prev == x:\n",
    "            count += 1\n",
    "        else:\n",
    "            res.append(str(count))\n",
    "            res.append(x)\n",
    "            count = 1 \n",
    "            prev = x\n",
    "            if len(res) >= max_len:\n",
    "                #print(res)\n",
    "                return s\n",
    "    res.append(str(count))\n",
    "    return ''.join(res)\n",
    "\n",
    "stringCompression('abcdeffff')"
   ]
  },
  {
   "cell_type": "code",
   "execution_count": null,
   "metadata": {
    "collapsed": false
   },
   "outputs": [],
   "source": [
    "matrix = [['00','01', '02', '03'],\n",
    "         ['10','11', '12', '13'],\n",
    "         ['20','21', '22', '23'],\n",
    "         ['30','31', '32', '33']]\n",
    "import copy\n",
    "def matrix_rotation(m):\n",
    "    n = len(m)\n",
    "    m_new = copy.deepcopy(m)\n",
    "    for x in range(n):\n",
    "        for y in range(n):\n",
    "            m_new[x][y] = m[n-1-y][x]\n",
    "    return m_new\n",
    "matrix_rotation(matrix)"
   ]
  },
  {
   "cell_type": "code",
   "execution_count": null,
   "metadata": {
    "collapsed": false
   },
   "outputs": [],
   "source": [
    "def matrixZero(matrix):\n",
    "    n = len(matrix)\n",
    "    m = len(matrix[0])\n",
    "    firstRowZero = False\n",
    "    firstColumnZero = False\n",
    "\n",
    "    def nullRow(i, matrix=matrix):\n",
    "        for j in range(m):\n",
    "            matrix[i][j] = 0\n",
    "\n",
    "    def nullcolumn(j, matrix=matrix):\n",
    "        for i in range(n):\n",
    "            matrix[i][j] = 0\n",
    "\n",
    "    for i in range(n):\n",
    "        if matrix[i][0] == 0:\n",
    "            firstColumnZero = True\n",
    "            break\n",
    "\n",
    "    for j in range(m):\n",
    "        if matrix[0][j] == 0:\n",
    "            firstRowZero = True\n",
    "            break\n",
    "\n",
    "    for i in range(1, n):\n",
    "        for j in range(1, m):\n",
    "            if matrix[i][j] == 0:\n",
    "                matrix[i][0] = 0\n",
    "                matrix[0][j] = 0\n",
    "\n",
    "    #print(matrix, n, m)\n",
    "    for i in range(1, n):\n",
    "        if matrix[i][0] == 0:\n",
    "            nullRow(i)\n",
    "\n",
    "    #print(matrix, n, m)           \n",
    "    for j in range(1, m):\n",
    "        if matrix[0][j] == 0:\n",
    "            nullcolumn(j)\n",
    "\n",
    "    if firstRowZero:\n",
    "        nullRow(0)\n",
    "\n",
    "    if firstColumnZero:\n",
    "        nullcolumn(0)\n",
    "m = [[0,0,0,5],[4,3,1,4],[0,1,1,4],[1,2,1,3],[0,0,1,1]]\n",
    "matrixZero(m)\n",
    "m"
   ]
  },
  {
   "cell_type": "code",
   "execution_count": null,
   "metadata": {
    "collapsed": false
   },
   "outputs": [],
   "source": [
    "def matrix_multiplication(m1, m2):\n",
    "    a = len(m1)\n",
    "    b = len(m1[0])\n",
    "    \n",
    "    c = len(m2)\n",
    "    d = len(m2[0])\n",
    "    \n",
    "    if b != c:\n",
    "        return None\n",
    "    new_mat = []\n",
    "    for i in range(a):\n",
    "        row = []\n",
    "        for j in range(b):\n",
    "            val = 0\n",
    "            for x in range(b):\n",
    "                val += m1[i][x] * m2[x][j]\n",
    "            row.append(val)\n",
    "        new_mat.append(row)\n",
    "    return new_mat\n",
    "\n",
    "m1 = [[0,0,0,5],[4,3,1,4],[0,1,1,4],[1,2,1,3]]\n",
    "m2 = [[0,0,0,5],[4,3,1,4],[0,1,1,4],[1,2,1,3]]\n",
    "matrix_multiplication(m1, m2)   "
   ]
  },
  {
   "cell_type": "code",
   "execution_count": null,
   "metadata": {
    "collapsed": false
   },
   "outputs": [],
   "source": [
    "def stringRotation(s1, s2):\n",
    "    if len(s1) != len(s2):\n",
    "        return False\n",
    "    def isSubstring(a, b):\n",
    "        return a in b\n",
    "    return isSubstring(s2, s1+ s1)\n",
    "stringRotation('waterbottle', 'erbottlewat')"
   ]
  },
  {
   "cell_type": "code",
   "execution_count": null,
   "metadata": {
    "collapsed": true
   },
   "outputs": [],
   "source": [
    "def numberInWords(n):\n",
    "    def hundred(n):\n",
    "        ones = ['', 'One', 'Two', 'Three', 'Four', 'Five', 'Six', 'Seven', 'Eight', 'Nine', 'Ten', 'Eleven', 'Twelve',\n",
    "               'Thirt']"
   ]
  },
  {
   "cell_type": "code",
   "execution_count": null,
   "metadata": {
    "collapsed": false
   },
   "outputs": [],
   "source": [
    "def firstNonRepeatingChar(s):\n",
    "    from collections import Counter\n",
    "    t = Counter(s)\n",
    "    for x in s:\n",
    "        if t[x] == 1:\n",
    "            return x\n",
    "firstNonRepeatingChar('aaab')"
   ]
  },
  {
   "cell_type": "code",
   "execution_count": null,
   "metadata": {
    "collapsed": false
   },
   "outputs": [],
   "source": [
    "def quickSort(array):\n",
    "    def recur(low, high):\n",
    "        #print(low, high, array)\n",
    "        if low <= high:\n",
    "            i = low - 1\n",
    "            j = low\n",
    "            while j < high:\n",
    "                if array[high] > array[j]:\n",
    "                    i += 1\n",
    "                    array[i], array[j] = array[j], array[i]\n",
    "                j += 1\n",
    "            array[i+1], array[high] = array[high], array[i+1]\n",
    "            pivot =  i + 1\n",
    "            recur(0, i)\n",
    "            recur(i+2, high)\n",
    "    recur(0, len(array) - 1)\n",
    "a = [7,10,0,1,3,12,2,4,9,8]\n",
    "quickSort(a)\n",
    "a"
   ]
  },
  {
   "cell_type": "code",
   "execution_count": null,
   "metadata": {
    "collapsed": false
   },
   "outputs": [],
   "source": [
    "\n",
    "def possible_routes(n):\n",
    "    s = set()\n",
    "    for i,x in enumerate(n[1:-1], 1):\n",
    "        print(i)\n",
    "        print(n[i-1], n[i+1])\n",
    "        if n[i-1] == 0 and n[i+1] == 0:\n",
    "            e = list((n))\n",
    "            del e[i]\n",
    "            s.add(tuple(e))\n",
    "    return s"
   ]
  },
  {
   "cell_type": "code",
   "execution_count": null,
   "metadata": {
    "collapsed": false
   },
   "outputs": [],
   "source": [
    "n = list(map(int, '000010'))\n",
    "n\n",
    "possible_routes(n)"
   ]
  },
  {
   "cell_type": "code",
   "execution_count": null,
   "metadata": {
    "collapsed": false
   },
   "outputs": [],
   "source": [
    "from itertools import permutations\n",
    "list(zip(list(set(permutations([0,0,0,1,1]))), ['A', 'B', 'B', 'B', 'A', 'B', 'A', 'B', 'B', 'A']))"
   ]
  },
  {
   "cell_type": "code",
   "execution_count": 6,
   "metadata": {
    "collapsed": false
   },
   "outputs": [
    {
     "data": {
      "text/plain": [
       "'try. not is there not, do or Do'"
      ]
     },
     "execution_count": 6,
     "metadata": {},
     "output_type": "execute_result"
    }
   ],
   "source": [
    "def reverse_words(s):\n",
    "    '''\n",
    "    s : 'Do or do not, there is not try.'\n",
    "    return : try, not is there not, do or Do\n",
    "    '''\n",
    "    i = 0\n",
    "    j = 0\n",
    "    ret = list(s[::-1])\n",
    "    \n",
    "    def reverser(i, j):\n",
    "        while i < j:\n",
    "            ret[i], ret[j] = ret[j], ret[i]\n",
    "            i += 1\n",
    "            j -= 1  \n",
    "    \n",
    "    while j < len(s):\n",
    "        if ret[j] == ' ':\n",
    "            reverser(i, j-1)\n",
    "            i = j + 1\n",
    "        j += 1\n",
    "    reverser(i, j-1)\n",
    "    return ''.join(ret)\n",
    "\n",
    "reverse_words('Do or do not, there is not try.')  "
   ]
  },
  {
   "cell_type": "code",
   "execution_count": null,
   "metadata": {
    "collapsed": true
   },
   "outputs": [],
   "source": []
  }
 ],
 "metadata": {
  "anaconda-cloud": {},
  "kernelspec": {
   "display_name": "Python [conda root]",
   "language": "python",
   "name": "conda-root-py"
  },
  "language_info": {
   "codemirror_mode": {
    "name": "ipython",
    "version": 3
   },
   "file_extension": ".py",
   "mimetype": "text/x-python",
   "name": "python",
   "nbconvert_exporter": "python",
   "pygments_lexer": "ipython3",
   "version": "3.5.2"
  }
 },
 "nbformat": 4,
 "nbformat_minor": 1
}
