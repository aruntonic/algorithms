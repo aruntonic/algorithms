{
 "cells": [
  {
   "cell_type": "code",
   "execution_count": 1,
   "metadata": {
    "collapsed": true
   },
   "outputs": [],
   "source": [
    "class MinHeap:\n",
    "    def __init__(self):\n",
    "        self.array = []\n",
    "    \n",
    "    def push(self, val):\n",
    "        self.array.append(val)\n",
    "        \n",
    "        i = len(self.array) -1 \n",
    "        p = (i-1)//2\n",
    "        while p >= 0 and i > 0 and self.array[p] >= self.array[i]:\n",
    "            self.array[p], self.array[i] = self.array[i], self.array[p]\n",
    "            i = p\n",
    "            p = (i-1)//2\n",
    "        #print(self.array)\n",
    "        \n",
    "    def pop(self):\n",
    "        if not self.array:\n",
    "            return None\n",
    "        \n",
    "        _min = self.array[0] \n",
    "        self.array[0] = self.array[-1]\n",
    "        del self.array[-1]\n",
    "        \n",
    "        i, l, r = 0, 1, 2\n",
    "        size = len(self.array) - 1\n",
    "        \n",
    "        while l <= size:\n",
    "            m = l\n",
    "            if r <= size and self.array[l] > self.array[r]:\n",
    "                m = r\n",
    "            if self.array[m] < self.array[i]:\n",
    "                self.array[m], self.array[i] = self.array[i], self.array[m]\n",
    "                i, l, r = m, (2 * m) + 1, (2 * m) + 2 \n",
    "            else:\n",
    "                break\n",
    "            #print(self.array)\n",
    "        return _min"
   ]
  },
  {
   "cell_type": "code",
   "execution_count": 16,
   "metadata": {
    "collapsed": false
   },
   "outputs": [
    {
     "name": "stdout",
     "output_type": "stream",
     "text": [
      "[1]\n",
      "[1, 5]\n",
      "[1, 5, 4]\n",
      "[1, 5, 4, 6]\n",
      "[1, 5, 4, 6, 7]\n",
      "[1, 5, 2, 6, 7, 4]\n",
      "[1, 5, 2, 6, 7, 4, 9]\n",
      "[0, 1, 2, 5, 7, 4, 9, 6]\n",
      "[0, 1, 2, 3, 7, 4, 9, 6, 5]\n",
      "[0, 1, 2, 3, 7, 4, 9, 6, 5, 8]\n",
      "[1, 8, 2, 3, 7, 4, 9, 6, 5]\n",
      "[1, 3, 2, 8, 7, 4, 9, 6, 5]\n",
      "[1, 3, 2, 5, 7, 4, 9, 6, 8]\n",
      "0\n",
      "[2, 3, 8, 5, 7, 4, 9, 6]\n",
      "[2, 3, 4, 5, 7, 8, 9, 6]\n",
      "1\n",
      "[3, 6, 4, 5, 7, 8, 9]\n",
      "[3, 5, 4, 6, 7, 8, 9]\n",
      "2\n",
      "[4, 5, 9, 6, 7, 8]\n",
      "[4, 5, 8, 6, 7, 9]\n",
      "3\n",
      "[5, 9, 8, 6, 7]\n",
      "[5, 6, 8, 9, 7]\n",
      "4\n",
      "[6, 7, 8, 9]\n",
      "5\n",
      "[7, 9, 8]\n",
      "6\n",
      "7\n",
      "8\n",
      "9\n"
     ]
    }
   ],
   "source": [
    "## test\n",
    "import random\n",
    "a = list(range(10))\n",
    "h = MinHeap()\n",
    "random.shuffle(a)\n",
    "\n",
    "for i in a:\n",
    "    h.push(i)\n",
    "    \n",
    "for i in a:\n",
    "    print(h.pop())\n",
    "\n"
   ]
  },
  {
   "cell_type": "code",
   "execution_count": 12,
   "metadata": {
    "collapsed": false
   },
   "outputs": [
    {
     "name": "stdout",
     "output_type": "stream",
     "text": [
      "-10\n",
      "-9\n",
      "-8\n",
      "-7\n",
      "-6\n",
      "-5\n",
      "-4\n",
      "-3\n",
      "-2\n",
      "-1\n",
      "0\n",
      "1\n",
      "1\n",
      "1\n",
      "1\n",
      "1\n",
      "1\n",
      "1\n",
      "1\n",
      "1\n",
      "[1, 1, 1, 1, 1, 1, 1, 4, 3, 1, 1, 5, 1, 1, 1, 9, 8, 7, 6, 2]\n",
      "[-10, -7, -9, -3, -4, -6, -8, 4, 3, 0, 1, 5, -2, -1, -5, 9, 8, 7, 6, 2]\n"
     ]
    }
   ],
   "source": [
    "from heapq import *\n",
    "import random\n",
    "a = list(range(-10, 10))\n",
    "h = MinHeap()\n",
    "random.shuffle(a)\n",
    "b = []\n",
    "for i in a:\n",
    "    heappush(b, i)\n",
    "    h.push(i)\n",
    "for i in a:\n",
    "    print(heappushpop(b, 1))\n",
    "    \n",
    "print(b)\n",
    "print(h.array)\n",
    "    "
   ]
  },
  {
   "cell_type": "code",
   "execution_count": 17,
   "metadata": {
    "collapsed": false
   },
   "outputs": [
    {
     "name": "stdout",
     "output_type": "stream",
     "text": [
      "[] [1]\n",
      "[-1] [2]\n",
      "[-1] [2, 3]\n",
      "[-2, -1] [3, 4]\n"
     ]
    }
   ],
   "source": [
    "from heapq import heappush, heappushpop\n",
    "class MedianFinder(object):\n",
    "\n",
    "    def __init__(self):\n",
    "        \"\"\"\n",
    "        initialize your data structure here.\n",
    "        \"\"\"\n",
    "        self.maxHeap = []\n",
    "        self.minHeap = []\n",
    "    \n",
    "    def heappush(self, array, val):\n",
    "        pass\n",
    "    \n",
    "    def heappop(self, array):\n",
    "        pass\n",
    "        \n",
    "\n",
    "    def addNum(self, num):\n",
    "        \"\"\"\n",
    "        :type num: int\n",
    "        :rtype: void\n",
    "        \"\"\"\n",
    "        if len(self.maxHeap) == len(self.minHeap):\n",
    "            heappush(self.minHeap, num)\n",
    "        else:\n",
    "            heappush(self.maxHeap, -heappushpop(self.minHeap, num))\n",
    "            \n",
    "            \n",
    "        print(self.maxHeap, self.minHeap)\n",
    "        \n",
    "\n",
    "    def findMedian(self):\n",
    "        \"\"\"\n",
    "        :rtype: float\n",
    "        \"\"\"\n",
    "        if len(self.maxHeap) == len(self.minHeap):\n",
    "            return float(self.minHeap[0] - self.maxHeap[0]) / 2.0\n",
    "        else:\n",
    "            return float(self.minHeap[0]) if self.minHeap else float(-self.maxHeap[0])\n",
    "        \n",
    "\n",
    "\n",
    "# Your MedianFinder object will be instantiated and called as such:\n",
    "obj = MedianFinder()\n",
    "obj.addNum(1)\n",
    "obj.addNum(2)\n",
    "obj.addNum(3)\n",
    "obj.addNum(4)\n",
    "\n",
    "# param_2 = obj.findMedian()"
   ]
  },
  {
   "cell_type": "code",
   "execution_count": 19,
   "metadata": {
    "collapsed": false
   },
   "outputs": [
    {
     "data": {
      "text/plain": [
       "5"
      ]
     },
     "execution_count": 19,
     "metadata": {},
     "output_type": "execute_result"
    }
   ],
   "source": [
    "-heappushpop(obj.maxHeap, -5)"
   ]
  },
  {
   "cell_type": "code",
   "execution_count": null,
   "metadata": {
    "collapsed": true
   },
   "outputs": [],
   "source": []
  }
 ],
 "metadata": {
  "anaconda-cloud": {},
  "kernelspec": {
   "display_name": "Python [conda root]",
   "language": "python",
   "name": "conda-root-py"
  },
  "language_info": {
   "codemirror_mode": {
    "name": "ipython",
    "version": 3
   },
   "file_extension": ".py",
   "mimetype": "text/x-python",
   "name": "python",
   "nbconvert_exporter": "python",
   "pygments_lexer": "ipython3",
   "version": "3.5.2"
  }
 },
 "nbformat": 4,
 "nbformat_minor": 1
}
